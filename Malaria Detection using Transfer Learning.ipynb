{
 "cells": [
  {
   "cell_type": "code",
   "execution_count": 1,
   "id": "90a3d9b3",
   "metadata": {},
   "outputs": [],
   "source": [
    "import tensorflow as tf"
   ]
  },
  {
   "cell_type": "code",
   "execution_count": 2,
   "id": "490b1d1d",
   "metadata": {},
   "outputs": [],
   "source": [
    "from tensorflow.keras.applications.vgg19 import VGG19\n",
    "from tensorflow.keras.applications.resnet50 import preprocess_input\n",
    "from glob import glob\n",
    "import matplotlib.pyplot as plt\n",
    "from numpy import *"
   ]
  },
  {
   "cell_type": "code",
   "execution_count": 3,
   "id": "c6f29a57",
   "metadata": {},
   "outputs": [],
   "source": [
    "ims = [224,224]\n",
    "\n",
    "train_path = \"/Users/yashwadgave/Documents/Dataset/Train\"\n",
    "test_path = \"/Users/yashwadgave/Documents/Dataset/Test\""
   ]
  },
  {
   "cell_type": "code",
   "execution_count": 4,
   "id": "e26e99b8",
   "metadata": {},
   "outputs": [],
   "source": [
    "mobilnet = VGG19(input_shape = ims+[3], weights='imagenet', include_top=False)"
   ]
  },
  {
   "cell_type": "code",
   "execution_count": 5,
   "id": "354321b9",
   "metadata": {},
   "outputs": [],
   "source": [
    "for layer in mobilnet.layers:\n",
    "    layer.trainable = False"
   ]
  },
  {
   "cell_type": "code",
   "execution_count": 6,
   "id": "04047255",
   "metadata": {},
   "outputs": [],
   "source": [
    "folders = glob(\"/Users/yashwadgave/Documents/Dataset/*\")"
   ]
  },
  {
   "cell_type": "code",
   "execution_count": 7,
   "id": "1a3196e8",
   "metadata": {},
   "outputs": [
    {
     "data": {
      "text/plain": [
       "['/Users/yashwadgave/Documents/Dataset/Test',\n",
       " '/Users/yashwadgave/Documents/Dataset/Train',\n",
       " '/Users/yashwadgave/Documents/Dataset/Malaria Detection using Transfer Learning.ipynb']"
      ]
     },
     "execution_count": 7,
     "metadata": {},
     "output_type": "execute_result"
    }
   ],
   "source": [
    "folders"
   ]
  },
  {
   "cell_type": "code",
   "execution_count": 8,
   "id": "61c1c09c",
   "metadata": {},
   "outputs": [],
   "source": [
    "x = tf.keras.layers.Flatten()(mobilnet.output)"
   ]
  },
  {
   "cell_type": "code",
   "execution_count": 9,
   "id": "5b35b81c",
   "metadata": {},
   "outputs": [],
   "source": [
    "prediction = tf.keras.layers.Dense(2, activation='softmax')(x)\n",
    "\n",
    "model = tf.keras.Model(inputs=mobilnet.input, outputs=prediction)"
   ]
  },
  {
   "cell_type": "code",
   "execution_count": 10,
   "id": "09739fd5",
   "metadata": {},
   "outputs": [
    {
     "name": "stdout",
     "output_type": "stream",
     "text": [
      "Model: \"model\"\n",
      "_________________________________________________________________\n",
      "Layer (type)                 Output Shape              Param #   \n",
      "=================================================================\n",
      "input_1 (InputLayer)         [(None, 224, 224, 3)]     0         \n",
      "_________________________________________________________________\n",
      "block1_conv1 (Conv2D)        (None, 224, 224, 64)      1792      \n",
      "_________________________________________________________________\n",
      "block1_conv2 (Conv2D)        (None, 224, 224, 64)      36928     \n",
      "_________________________________________________________________\n",
      "block1_pool (MaxPooling2D)   (None, 112, 112, 64)      0         \n",
      "_________________________________________________________________\n",
      "block2_conv1 (Conv2D)        (None, 112, 112, 128)     73856     \n",
      "_________________________________________________________________\n",
      "block2_conv2 (Conv2D)        (None, 112, 112, 128)     147584    \n",
      "_________________________________________________________________\n",
      "block2_pool (MaxPooling2D)   (None, 56, 56, 128)       0         \n",
      "_________________________________________________________________\n",
      "block3_conv1 (Conv2D)        (None, 56, 56, 256)       295168    \n",
      "_________________________________________________________________\n",
      "block3_conv2 (Conv2D)        (None, 56, 56, 256)       590080    \n",
      "_________________________________________________________________\n",
      "block3_conv3 (Conv2D)        (None, 56, 56, 256)       590080    \n",
      "_________________________________________________________________\n",
      "block3_conv4 (Conv2D)        (None, 56, 56, 256)       590080    \n",
      "_________________________________________________________________\n",
      "block3_pool (MaxPooling2D)   (None, 28, 28, 256)       0         \n",
      "_________________________________________________________________\n",
      "block4_conv1 (Conv2D)        (None, 28, 28, 512)       1180160   \n",
      "_________________________________________________________________\n",
      "block4_conv2 (Conv2D)        (None, 28, 28, 512)       2359808   \n",
      "_________________________________________________________________\n",
      "block4_conv3 (Conv2D)        (None, 28, 28, 512)       2359808   \n",
      "_________________________________________________________________\n",
      "block4_conv4 (Conv2D)        (None, 28, 28, 512)       2359808   \n",
      "_________________________________________________________________\n",
      "block4_pool (MaxPooling2D)   (None, 14, 14, 512)       0         \n",
      "_________________________________________________________________\n",
      "block5_conv1 (Conv2D)        (None, 14, 14, 512)       2359808   \n",
      "_________________________________________________________________\n",
      "block5_conv2 (Conv2D)        (None, 14, 14, 512)       2359808   \n",
      "_________________________________________________________________\n",
      "block5_conv3 (Conv2D)        (None, 14, 14, 512)       2359808   \n",
      "_________________________________________________________________\n",
      "block5_conv4 (Conv2D)        (None, 14, 14, 512)       2359808   \n",
      "_________________________________________________________________\n",
      "block5_pool (MaxPooling2D)   (None, 7, 7, 512)         0         \n",
      "_________________________________________________________________\n",
      "flatten (Flatten)            (None, 25088)             0         \n",
      "_________________________________________________________________\n",
      "dense (Dense)                (None, 2)                 50178     \n",
      "=================================================================\n",
      "Total params: 20,074,562\n",
      "Trainable params: 50,178\n",
      "Non-trainable params: 20,024,384\n",
      "_________________________________________________________________\n"
     ]
    }
   ],
   "source": [
    "model.summary()"
   ]
  },
  {
   "cell_type": "code",
   "execution_count": 11,
   "id": "56e58278",
   "metadata": {},
   "outputs": [],
   "source": [
    "model.compile(optimizer='adam', loss='categorical_crossentropy', metrics=['acc'])"
   ]
  },
  {
   "cell_type": "code",
   "execution_count": 12,
   "id": "7b918655",
   "metadata": {},
   "outputs": [],
   "source": [
    "from tensorflow.keras.preprocessing.image import ImageDataGenerator\n",
    "\n",
    "train_datagen = ImageDataGenerator(rescale=1./255,\n",
    "                                  shear_range=0.2,\n",
    "                                  zoom_range=0.2,\n",
    "                                  horizontal_flip=True)\n",
    "\n",
    "test_datagen = ImageDataGenerator(rescale=1./255)"
   ]
  },
  {
   "cell_type": "code",
   "execution_count": 13,
   "id": "823df047",
   "metadata": {},
   "outputs": [
    {
     "name": "stdout",
     "output_type": "stream",
     "text": [
      "Found 416 images belonging to 2 classes.\n"
     ]
    }
   ],
   "source": [
    "train = train_datagen.flow_from_directory(train_path,target_size=(224,224),batch_size=32,class_mode='categorical')"
   ]
  },
  {
   "cell_type": "code",
   "execution_count": 14,
   "id": "bd541646",
   "metadata": {},
   "outputs": [
    {
     "name": "stdout",
     "output_type": "stream",
     "text": [
      "Found 134 images belonging to 2 classes.\n"
     ]
    }
   ],
   "source": [
    "test = test_datagen.flow_from_directory(test_path,target_size=(224,224),batch_size=32,class_mode='categorical')"
   ]
  },
  {
   "cell_type": "code",
   "execution_count": 15,
   "id": "681a3a95",
   "metadata": {},
   "outputs": [
    {
     "name": "stdout",
     "output_type": "stream",
     "text": [
      "Epoch 1/20\n",
      "13/13 [==============================] - 25s 2s/step - loss: 1.6590 - acc: 0.4928 - val_loss: 0.7831 - val_acc: 0.6791\n",
      "Epoch 2/20\n",
      "13/13 [==============================] - 24s 2s/step - loss: 0.7841 - acc: 0.6058 - val_loss: 1.3269 - val_acc: 0.4179\n",
      "Epoch 3/20\n",
      "13/13 [==============================] - 24s 2s/step - loss: 0.5549 - acc: 0.7380 - val_loss: 0.5290 - val_acc: 0.7239\n",
      "Epoch 4/20\n",
      "13/13 [==============================] - 23s 2s/step - loss: 0.3750 - acc: 0.8293 - val_loss: 0.5264 - val_acc: 0.7687\n",
      "Epoch 5/20\n",
      "13/13 [==============================] - 24s 2s/step - loss: 0.3041 - acc: 0.9038 - val_loss: 0.4675 - val_acc: 0.8060\n",
      "Epoch 6/20\n",
      "13/13 [==============================] - 24s 2s/step - loss: 0.2810 - acc: 0.9038 - val_loss: 0.4393 - val_acc: 0.8209\n",
      "Epoch 7/20\n",
      "13/13 [==============================] - 24s 2s/step - loss: 0.2645 - acc: 0.8990 - val_loss: 0.3883 - val_acc: 0.7985\n",
      "Epoch 8/20\n",
      "13/13 [==============================] - 24s 2s/step - loss: 0.2562 - acc: 0.9207 - val_loss: 0.3669 - val_acc: 0.8134\n",
      "Epoch 9/20\n",
      "13/13 [==============================] - 24s 2s/step - loss: 0.2612 - acc: 0.8966 - val_loss: 0.5381 - val_acc: 0.7164\n",
      "Epoch 10/20\n",
      "13/13 [==============================] - 24s 2s/step - loss: 0.2247 - acc: 0.9135 - val_loss: 0.3398 - val_acc: 0.8433\n",
      "Epoch 11/20\n",
      "13/13 [==============================] - 24s 2s/step - loss: 0.2336 - acc: 0.9207 - val_loss: 0.3928 - val_acc: 0.8134\n",
      "Epoch 12/20\n",
      "13/13 [==============================] - 24s 2s/step - loss: 0.1941 - acc: 0.9519 - val_loss: 0.3223 - val_acc: 0.8731\n",
      "Epoch 13/20\n",
      "13/13 [==============================] - 24s 2s/step - loss: 0.1986 - acc: 0.9351 - val_loss: 0.5123 - val_acc: 0.7388\n",
      "Epoch 14/20\n",
      "13/13 [==============================] - 24s 2s/step - loss: 0.2245 - acc: 0.9087 - val_loss: 0.3240 - val_acc: 0.8433\n",
      "Epoch 15/20\n",
      "13/13 [==============================] - 24s 2s/step - loss: 0.1801 - acc: 0.9375 - val_loss: 0.3057 - val_acc: 0.8731\n",
      "Epoch 16/20\n",
      "13/13 [==============================] - 24s 2s/step - loss: 0.1735 - acc: 0.9447 - val_loss: 0.3838 - val_acc: 0.8209\n",
      "Epoch 17/20\n",
      "13/13 [==============================] - 26s 2s/step - loss: 0.1737 - acc: 0.9447 - val_loss: 0.2822 - val_acc: 0.9030\n",
      "Epoch 18/20\n",
      "13/13 [==============================] - 1029s 86s/step - loss: 0.1739 - acc: 0.9519 - val_loss: 0.3250 - val_acc: 0.8806\n",
      "Epoch 19/20\n",
      "13/13 [==============================] - 5146s 429s/step - loss: 0.1611 - acc: 0.9447 - val_loss: 0.2935 - val_acc: 0.9104\n",
      "Epoch 20/20\n",
      "13/13 [==============================] - 1479s 123s/step - loss: 0.1484 - acc: 0.9591 - val_loss: 0.2718 - val_acc: 0.9030\n"
     ]
    }
   ],
   "source": [
    "history = model.fit(train,validation_data=test,epochs=20,steps_per_epoch=len(train),validation_steps=len(test))"
   ]
  },
  {
   "cell_type": "code",
   "execution_count": 16,
   "id": "6cdae1e7",
   "metadata": {},
   "outputs": [
    {
     "data": {
      "image/png": "[encoded data removed]",
      "text/plain": [
       "<Figure size 640x480 with 1 Axes>"
      ]
     },
     "metadata": {},
     "output_type": "display_data"
    },
    {
     "data": {
      "image/png": "[encoded data removed]",
      "text/plain": [
       "<Figure size 640x480 with 1 Axes>"
      ]
     },
     "metadata": {},
     "output_type": "display_data"
    }
   ],
   "source": [
    "plt.plot(history.history['loss'],label='Train_loss')\n",
    "plt.plot(history.history['val_loss'],label='Val_loss')\n",
    "plt.legend()\n",
    "plt.show()\n",
    "\n",
    "plt.plot(history.history['acc'],label='Train_acc')\n",
    "plt.plot(history.history['val_acc'],label='Val_acc')\n",
    "plt.legend()\n",
    "plt.show()"
   ]
  },
  {
   "cell_type": "code",
   "execution_count": 17,
   "id": "49d51a61",
   "metadata": {},
   "outputs": [],
   "source": [
    "y_pred = model.predict(test)"
   ]
  },
  {
   "cell_type": "code",
   "execution_count": 18,
   "id": "7441f58e",
   "metadata": {},
   "outputs": [
    {
     "data": {
      "text/plain": [
       "array([[9.93674159e-01, 6.32582279e-03],\n",
       "       [1.31739154e-01, 8.68260920e-01],\n",
       "       [1.31519556e-01, 8.68480504e-01],\n",
       "       [3.73564631e-01, 6.26435399e-01],\n",
       "       [9.53198254e-01, 4.68017682e-02],\n",
       "       [9.95315671e-01, 4.68435232e-03],\n",
       "       [9.72822368e-01, 2.71776970e-02],\n",
       "       [7.19425142e-01, 2.80574858e-01],\n",
       "       [9.97917354e-01, 2.08264845e-03],\n",
       "       [9.10199225e-01, 8.98007974e-02],\n",
       "       [8.49785984e-01, 1.50214016e-01],\n",
       "       [9.23992455e-01, 7.60075748e-02],\n",
       "       [2.46660069e-01, 7.53340006e-01],\n",
       "       [2.39964619e-01, 7.60035396e-01],\n",
       "       [6.77060246e-01, 3.22939873e-01],\n",
       "       [4.60737683e-02, 9.53926265e-01],\n",
       "       [2.12630883e-01, 7.87369072e-01],\n",
       "       [8.90859306e-01, 1.09140746e-01],\n",
       "       [8.54264617e-01, 1.45735323e-01],\n",
       "       [8.38861585e-01, 1.61138445e-01],\n",
       "       [6.86551392e-01, 3.13448668e-01],\n",
       "       [9.50805366e-01, 4.91946116e-02],\n",
       "       [9.88350272e-01, 1.16497101e-02],\n",
       "       [9.99541402e-01, 4.58616356e-04],\n",
       "       [9.82433200e-01, 1.75667517e-02],\n",
       "       [2.78858900e-01, 7.21141160e-01],\n",
       "       [8.11089873e-01, 1.88910097e-01],\n",
       "       [4.48483080e-01, 5.51516891e-01],\n",
       "       [7.45204389e-02, 9.25479591e-01],\n",
       "       [1.40642047e-01, 8.59357953e-01],\n",
       "       [7.76746869e-02, 9.22325373e-01],\n",
       "       [9.99951243e-01, 4.88078986e-05],\n",
       "       [9.01756585e-02, 9.09824371e-01],\n",
       "       [1.71944097e-01, 8.28055918e-01],\n",
       "       [1.91146880e-01, 8.08853090e-01],\n",
       "       [2.49729365e-01, 7.50270665e-01],\n",
       "       [9.23617721e-01, 7.63823092e-02],\n",
       "       [2.84327537e-01, 7.15672493e-01],\n",
       "       [3.02233756e-01, 6.97766244e-01],\n",
       "       [9.99737561e-01, 2.62462796e-04],\n",
       "       [9.53900069e-02, 9.04610038e-01],\n",
       "       [2.67972142e-01, 7.32027948e-01],\n",
       "       [1.14690877e-01, 8.85309160e-01],\n",
       "       [7.41807342e-01, 2.58192688e-01],\n",
       "       [6.62916541e-01, 3.37083459e-01],\n",
       "       [5.37371755e-01, 4.62628275e-01],\n",
       "       [6.33745968e-01, 3.66254061e-01],\n",
       "       [9.82596576e-01, 1.74033865e-02],\n",
       "       [9.97486591e-01, 2.51343357e-03],\n",
       "       [9.94132459e-01, 5.86752919e-03],\n",
       "       [9.97744918e-01, 2.25509168e-03],\n",
       "       [6.10220313e-01, 3.89779687e-01],\n",
       "       [9.99993682e-01, 6.30593513e-06],\n",
       "       [3.90346162e-02, 9.60965395e-01],\n",
       "       [3.22622508e-01, 6.77377462e-01],\n",
       "       [1.18243009e-01, 8.81756961e-01],\n",
       "       [9.96344268e-01, 3.65570653e-03],\n",
       "       [1.15645833e-01, 8.84354174e-01],\n",
       "       [7.66201615e-01, 2.33798370e-01],\n",
       "       [4.11073953e-01, 5.88926017e-01],\n",
       "       [6.99040294e-01, 3.00959677e-01],\n",
       "       [9.95881438e-01, 4.11859201e-03],\n",
       "       [9.94316757e-01, 5.68326004e-03],\n",
       "       [1.26544893e-01, 8.73455107e-01],\n",
       "       [9.99392986e-01, 6.06957125e-04],\n",
       "       [8.11391771e-01, 1.88608259e-01],\n",
       "       [9.97788787e-01, 2.21115560e-03],\n",
       "       [9.78380024e-01, 2.16199104e-02],\n",
       "       [9.92929757e-01, 7.07024895e-03],\n",
       "       [9.93128657e-01, 6.87139202e-03],\n",
       "       [2.57817715e-01, 7.42182314e-01],\n",
       "       [9.72799659e-01, 2.72003263e-02],\n",
       "       [9.87264156e-01, 1.27358548e-02],\n",
       "       [4.81384061e-02, 9.51861620e-01],\n",
       "       [7.81277657e-01, 2.18722329e-01],\n",
       "       [3.20684493e-01, 6.79315567e-01],\n",
       "       [9.82453585e-01, 1.75463930e-02],\n",
       "       [6.66957974e-01, 3.33042026e-01],\n",
       "       [7.17075288e-01, 2.82924771e-01],\n",
       "       [9.33269024e-01, 6.67310432e-02],\n",
       "       [6.71559274e-01, 3.28440696e-01],\n",
       "       [9.99469817e-01, 5.30204328e-04],\n",
       "       [8.30117986e-02, 9.16988194e-01],\n",
       "       [2.01528907e-01, 7.98471093e-01],\n",
       "       [6.69577897e-01, 3.30422074e-01],\n",
       "       [2.58970946e-01, 7.41029143e-01],\n",
       "       [7.80857444e-01, 2.19142497e-01],\n",
       "       [5.36659420e-01, 4.63340640e-01],\n",
       "       [9.90601182e-01, 9.39881336e-03],\n",
       "       [1.43797636e-01, 8.56202424e-01],\n",
       "       [4.47720826e-01, 5.52279234e-01],\n",
       "       [5.97947955e-01, 4.02052045e-01],\n",
       "       [7.84842908e-01, 2.15157166e-01],\n",
       "       [8.73144984e-01, 1.26855001e-01],\n",
       "       [9.99616683e-01, 3.83299717e-04],\n",
       "       [4.49470341e-01, 5.50529599e-01],\n",
       "       [9.74414527e-01, 2.55854651e-02],\n",
       "       [9.81992245e-01, 1.80077869e-02],\n",
       "       [9.17353809e-01, 8.26462358e-02],\n",
       "       [1.83574542e-01, 8.16425443e-01],\n",
       "       [2.75875837e-01, 7.24124193e-01],\n",
       "       [4.03493345e-01, 5.96506655e-01],\n",
       "       [2.14024991e-01, 7.85975039e-01],\n",
       "       [4.82779741e-01, 5.17220259e-01],\n",
       "       [8.90039951e-02, 9.10996020e-01],\n",
       "       [2.79829770e-01, 7.20170259e-01],\n",
       "       [9.30442274e-01, 6.95577115e-02],\n",
       "       [9.97194111e-01, 2.80597643e-03],\n",
       "       [7.43643701e-01, 2.56356299e-01],\n",
       "       [9.55938816e-01, 4.40611169e-02],\n",
       "       [1.05113946e-01, 8.94886076e-01],\n",
       "       [9.96642709e-01, 3.35725187e-03],\n",
       "       [5.73992431e-01, 4.26007569e-01],\n",
       "       [1.13513708e-01, 8.86486292e-01],\n",
       "       [9.91447091e-01, 8.55290983e-03],\n",
       "       [9.18646157e-01, 8.13538581e-02],\n",
       "       [9.99619186e-01, 3.80829908e-04],\n",
       "       [2.30270132e-01, 7.69729853e-01],\n",
       "       [9.99975562e-01, 2.44612802e-05],\n",
       "       [2.47466192e-01, 7.52533793e-01],\n",
       "       [9.49452639e-01, 5.05473167e-02],\n",
       "       [1.63349286e-01, 8.36650729e-01],\n",
       "       [2.30801210e-01, 7.69198775e-01],\n",
       "       [1.52718037e-01, 8.47281933e-01],\n",
       "       [9.89526510e-01, 1.04735112e-02],\n",
       "       [6.95918083e-01, 3.04081976e-01],\n",
       "       [3.00910801e-01, 6.99089170e-01],\n",
       "       [9.99684215e-01, 3.15806479e-04],\n",
       "       [1.72695637e-01, 8.27304363e-01],\n",
       "       [9.93840039e-01, 6.15994446e-03],\n",
       "       [1.75977200e-01, 8.24022830e-01],\n",
       "       [7.34888434e-01, 2.65111566e-01],\n",
       "       [9.90936339e-01, 9.06361453e-03],\n",
       "       [1.40086442e-01, 8.59913588e-01]], dtype=float32)"
      ]
     },
     "execution_count": 18,
     "metadata": {},
     "output_type": "execute_result"
    }
   ],
   "source": [
    "y_pred"
   ]
  },
  {
   "cell_type": "code",
   "execution_count": 19,
   "id": "05466584",
   "metadata": {},
   "outputs": [],
   "source": [
    "y_pred = argmax(y_pred, axis=1)"
   ]
  },
  {
   "cell_type": "code",
   "execution_count": 20,
   "id": "bc2f57f0",
   "metadata": {},
   "outputs": [
    {
     "data": {
      "text/plain": [
       "array([0, 1, 1, 1, 0, 0, 0, 0, 0, 0, 0, 0, 1, 1, 0, 1, 1, 0, 0, 0, 0, 0,\n",
       "       0, 0, 0, 1, 0, 1, 1, 1, 1, 0, 1, 1, 1, 1, 0, 1, 1, 0, 1, 1, 1, 0,\n",
       "       0, 0, 0, 0, 0, 0, 0, 0, 0, 1, 1, 1, 0, 1, 0, 1, 0, 0, 0, 1, 0, 0,\n",
       "       0, 0, 0, 0, 1, 0, 0, 1, 0, 1, 0, 0, 0, 0, 0, 0, 1, 1, 0, 1, 0, 0,\n",
       "       0, 1, 1, 0, 0, 0, 0, 1, 0, 0, 0, 1, 1, 1, 1, 1, 1, 1, 0, 0, 0, 0,\n",
       "       1, 0, 0, 1, 0, 0, 0, 1, 0, 1, 0, 1, 1, 1, 0, 0, 1, 0, 1, 0, 1, 0,\n",
       "       0, 1])"
      ]
     },
     "execution_count": 20,
     "metadata": {},
     "output_type": "execute_result"
    }
   ],
   "source": [
    "y_pred"
   ]
  },
  {
   "cell_type": "code",
   "execution_count": 35,
   "id": "afe7158e",
   "metadata": {},
   "outputs": [],
   "source": [
    "from tensorflow.keras.preprocessing import image\n",
    "\n",
    "img = image.load_img(\"/Users/yashwadgave/Documents/Dataset/Train/Uninfected/C1_thinF_IMG_20150604_104722_cell_15.png\",target_size=(224,224))"
   ]
  },
  {
   "cell_type": "code",
   "execution_count": 36,
   "id": "72802ccf",
   "metadata": {},
   "outputs": [
    {
     "data": {
      "text/plain": [
       "array([[[0., 0., 0.],\n",
       "        [0., 0., 0.],\n",
       "        [0., 0., 0.],\n",
       "        ...,\n",
       "        [0., 0., 0.],\n",
       "        [0., 0., 0.],\n",
       "        [0., 0., 0.]],\n",
       "\n",
       "       [[0., 0., 0.],\n",
       "        [0., 0., 0.],\n",
       "        [0., 0., 0.],\n",
       "        ...,\n",
       "        [0., 0., 0.],\n",
       "        [0., 0., 0.],\n",
       "        [0., 0., 0.]],\n",
       "\n",
       "       [[0., 0., 0.],\n",
       "        [0., 0., 0.],\n",
       "        [0., 0., 0.],\n",
       "        ...,\n",
       "        [0., 0., 0.],\n",
       "        [0., 0., 0.],\n",
       "        [0., 0., 0.]],\n",
       "\n",
       "       ...,\n",
       "\n",
       "       [[0., 0., 0.],\n",
       "        [0., 0., 0.],\n",
       "        [0., 0., 0.],\n",
       "        ...,\n",
       "        [0., 0., 0.],\n",
       "        [0., 0., 0.],\n",
       "        [0., 0., 0.]],\n",
       "\n",
       "       [[0., 0., 0.],\n",
       "        [0., 0., 0.],\n",
       "        [0., 0., 0.],\n",
       "        ...,\n",
       "        [0., 0., 0.],\n",
       "        [0., 0., 0.],\n",
       "        [0., 0., 0.]],\n",
       "\n",
       "       [[0., 0., 0.],\n",
       "        [0., 0., 0.],\n",
       "        [0., 0., 0.],\n",
       "        ...,\n",
       "        [0., 0., 0.],\n",
       "        [0., 0., 0.],\n",
       "        [0., 0., 0.]]], dtype=float32)"
      ]
     },
     "execution_count": 36,
     "metadata": {},
     "output_type": "execute_result"
    }
   ],
   "source": [
    "p = image.img_to_array(img)\n",
    "p"
   ]
  },
  {
   "cell_type": "code",
   "execution_count": 37,
   "id": "77e118ed",
   "metadata": {},
   "outputs": [],
   "source": [
    "p=p/255"
   ]
  },
  {
   "cell_type": "code",
   "execution_count": 38,
   "id": "caae5672",
   "metadata": {},
   "outputs": [
    {
     "data": {
      "text/plain": [
       "array([[[0., 0., 0.],\n",
       "        [0., 0., 0.],\n",
       "        [0., 0., 0.],\n",
       "        ...,\n",
       "        [0., 0., 0.],\n",
       "        [0., 0., 0.],\n",
       "        [0., 0., 0.]],\n",
       "\n",
       "       [[0., 0., 0.],\n",
       "        [0., 0., 0.],\n",
       "        [0., 0., 0.],\n",
       "        ...,\n",
       "        [0., 0., 0.],\n",
       "        [0., 0., 0.],\n",
       "        [0., 0., 0.]],\n",
       "\n",
       "       [[0., 0., 0.],\n",
       "        [0., 0., 0.],\n",
       "        [0., 0., 0.],\n",
       "        ...,\n",
       "        [0., 0., 0.],\n",
       "        [0., 0., 0.],\n",
       "        [0., 0., 0.]],\n",
       "\n",
       "       ...,\n",
       "\n",
       "       [[0., 0., 0.],\n",
       "        [0., 0., 0.],\n",
       "        [0., 0., 0.],\n",
       "        ...,\n",
       "        [0., 0., 0.],\n",
       "        [0., 0., 0.],\n",
       "        [0., 0., 0.]],\n",
       "\n",
       "       [[0., 0., 0.],\n",
       "        [0., 0., 0.],\n",
       "        [0., 0., 0.],\n",
       "        ...,\n",
       "        [0., 0., 0.],\n",
       "        [0., 0., 0.],\n",
       "        [0., 0., 0.]],\n",
       "\n",
       "       [[0., 0., 0.],\n",
       "        [0., 0., 0.],\n",
       "        [0., 0., 0.],\n",
       "        ...,\n",
       "        [0., 0., 0.],\n",
       "        [0., 0., 0.],\n",
       "        [0., 0., 0.]]], dtype=float32)"
      ]
     },
     "execution_count": 38,
     "metadata": {},
     "output_type": "execute_result"
    }
   ],
   "source": [
    "p"
   ]
  },
  {
   "cell_type": "code",
   "execution_count": 39,
   "id": "884c1fbd",
   "metadata": {},
   "outputs": [
    {
     "data": {
      "text/plain": [
       "(1, 224, 224, 3)"
      ]
     },
     "execution_count": 39,
     "metadata": {},
     "output_type": "execute_result"
    }
   ],
   "source": [
    "p = expand_dims(p,axis=0)\n",
    "img_data = preprocess_input(p)\n",
    "img_data.shape"
   ]
  },
  {
   "cell_type": "code",
   "execution_count": 40,
   "id": "d1c07334",
   "metadata": {},
   "outputs": [],
   "source": [
    "l = model.predict(img_data)"
   ]
  },
  {
   "cell_type": "code",
   "execution_count": 41,
   "id": "68e3fd92",
   "metadata": {},
   "outputs": [],
   "source": [
    "a = argmax(l,axis=1)"
   ]
  },
  {
   "cell_type": "code",
   "execution_count": 42,
   "id": "a1200af4",
   "metadata": {},
   "outputs": [
    {
     "name": "stdout",
     "output_type": "stream",
     "text": [
      "Uninfected\n"
     ]
    }
   ],
   "source": [
    "if (a==1):\n",
    "    print(\"Uninfected\")\n",
    "else:\n",
    "    print(\"Infected\")"
   ]
  },
  {
   "cell_type": "code",
   "execution_count": null,
   "id": "617d0961",
   "metadata": {},
   "outputs": [],
   "source": []
  }
 ],
 "metadata": {
  "kernelspec": {
   "display_name": "Python 3.9 (tensorflow)",
   "language": "python",
   "name": "tensorflow"
  },
  "language_info": {
   "codemirror_mode": {
    "name": "ipython",
    "version": 3
   },
   "file_extension": ".py",
   "mimetype": "text/x-python",
   "name": "python",
   "nbconvert_exporter": "python",
   "pygments_lexer": "ipython3",
   "version": "3.9.6"
  }
 },
 "nbformat": 4,
 "nbformat_minor": 5
}
